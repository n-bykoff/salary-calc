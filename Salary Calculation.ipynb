{
 "cells": [
  {
   "cell_type": "code",
   "execution_count": 1,
   "id": "146b9a5a",
   "metadata": {},
   "outputs": [],
   "source": [
    "from datetime import datetime, date\n",
    "import calendar\n",
    "import json"
   ]
  },
  {
   "cell_type": "code",
   "execution_count": 18,
   "id": "d7eb6de1",
   "metadata": {},
   "outputs": [],
   "source": [
    "today_date = date.today()\n",
    "\n",
    "month = today_date.month\n",
    "year = today_date.year"
   ]
  },
  {
   "cell_type": "code",
   "execution_count": 19,
   "id": "1ed53282",
   "metadata": {},
   "outputs": [
    {
     "name": "stdout",
     "output_type": "stream",
     "text": [
      "     June 2022\n",
      "Mo Tu We Th Fr Sa Su\n",
      "       1  2  3  4  5\n",
      " 6  7  8  9 10 11 12\n",
      "13 14 15 16 17 18 19\n",
      "20 21 22 23 24 25 26\n",
      "27 28 29 30\n",
      "\n"
     ]
    }
   ],
   "source": [
    "print(calendar.month(year, month))"
   ]
  },
  {
   "cell_type": "code",
   "execution_count": 20,
   "id": "7ccbebba",
   "metadata": {},
   "outputs": [
    {
     "data": {
      "text/plain": [
       "{'1': [[1, \"New Year's Day\", 'National Holiday'],\n",
       "  [2, \"New Year's Holiday (Bridge Day)\", 'National Holiday'],\n",
       "  [3, \"New Year's Holiday (Bridge Day)\", 'National Holiday'],\n",
       "  [4, 'Orthodox Christmas Holiday', 'National Holiday'],\n",
       "  [5, 'Orthodox Christmas Holiday', 'National Holiday'],\n",
       "  [6, 'Orthodox Christmas Holiday', 'National Holiday'],\n",
       "  [7, 'Orthodox Christmas', 'National Holiday'],\n",
       "  [8, 'Orthodox Christmas Holiday', 'National Holiday']],\n",
       " '2': [[23, 'Defence of the Fatherland Day', 'National Holiday']],\n",
       " '3': [[7, \"International Women's Day (Bridge Day)\", 'National Holiday'],\n",
       "  [8, \"International Women's Day (in lieu)\", 'National Holiday']],\n",
       " '5': [[1, 'Day of Spring and Labor', 'National Holiday'],\n",
       "  [2, 'Public Holiday Holiday', 'National Holiday'],\n",
       "  [3, 'Day of Spring and Labor Holiday', 'National Holiday'],\n",
       "  [9, 'Victory Day', 'National Holiday'],\n",
       "  [10, 'Victory Day Holiday', 'National Holiday']],\n",
       " '6': [[12, 'Russia Day', 'National Holiday'],\n",
       "  [13, 'Russia Day', 'National Holiday']],\n",
       " '11': [[4, 'Day of Unity', 'National Holiday']]}"
      ]
     },
     "execution_count": 20,
     "metadata": {},
     "output_type": "execute_result"
    }
   ],
   "source": [
    "with open('holidays_2022.json') as json_file:\n",
    "    data = json.load(json_file)\n",
    "    \n",
    "data"
   ]
  },
  {
   "cell_type": "code",
   "execution_count": 21,
   "id": "643c1800",
   "metadata": {},
   "outputs": [
    {
     "name": "stdout",
     "output_type": "stream",
     "text": [
      "[12, 13]\n"
     ]
    }
   ],
   "source": [
    "holidays_list = [int(i[0]) for i in data[str(month)]]\n",
    "print(holidays_list)"
   ]
  },
  {
   "cell_type": "code",
   "execution_count": 23,
   "id": "2f6d1d78",
   "metadata": {},
   "outputs": [
    {
     "name": "stdout",
     "output_type": "stream",
     "text": [
      "21\n",
      "[1, 2, 3, 6, 7, 8, 9, 10, 14, 15]\n",
      "[16, 17, 20, 21, 22, 23, 24, 27, 28, 29, 30]\n"
     ]
    }
   ],
   "source": [
    "workday_count = 0\n",
    "cal = calendar.Calendar()\n",
    "\n",
    "first_month_half = []\n",
    "second_month_half = []\n",
    "\n",
    "for week in cal.monthdayscalendar(year, month):\n",
    "\n",
    "    for i, day in enumerate(week):\n",
    "\n",
    "        # not this month's day or a weekend\n",
    "        if day == 0 or i >= 5 or day in holidays_list:\n",
    "            continue\n",
    "        # or some other control if desired...\n",
    "        if day <= 15:\n",
    "            first_month_half.append(day)\n",
    "        else:\n",
    "            second_month_half.append(day)\n",
    "        \n",
    "        workday_count += 1\n",
    "\n",
    "print(workday_count)\n",
    "print(first_month_half)\n",
    "print(second_month_half)"
   ]
  },
  {
   "cell_type": "code",
   "execution_count": 24,
   "id": "5e59f750",
   "metadata": {},
   "outputs": [
    {
     "name": "stdout",
     "output_type": "stream",
     "text": [
      "174000.0 8285.714285714286 82857.14285714287 91142.85714285714\n"
     ]
    }
   ],
   "source": [
    "monthly_salary = 200_000 * 0.87\n",
    "daily_salary = monthly_salary / workday_count\n",
    "\n",
    "first_half_salary = daily_salary * len(first_month_half)\n",
    "second_half_salary = daily_salary * len(second_month_half)\n",
    "\n",
    "print(monthly_salary, daily_salary, first_half_salary, second_half_salary)"
   ]
  },
  {
   "cell_type": "code",
   "execution_count": null,
   "id": "addfe582",
   "metadata": {},
   "outputs": [],
   "source": []
  }
 ],
 "metadata": {
  "kernelspec": {
   "display_name": "Python 3 (ipykernel)",
   "language": "python",
   "name": "python3"
  },
  "language_info": {
   "codemirror_mode": {
    "name": "ipython",
    "version": 3
   },
   "file_extension": ".py",
   "mimetype": "text/x-python",
   "name": "python",
   "nbconvert_exporter": "python",
   "pygments_lexer": "ipython3",
   "version": "3.9.9"
  }
 },
 "nbformat": 4,
 "nbformat_minor": 5
}
